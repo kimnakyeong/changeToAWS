{
 "cells": [
  {
   "cell_type": "code",
   "execution_count": 1,
   "metadata": {},
   "outputs": [],
   "source": [
    "import pandas as pd\n",
    "import numpy as np\n",
    "import matplotlib.pyplot as plt\n",
    "import os\n",
    "\n",
    "pandsa = pd.read_csv('reviewHBLOGHASD.txt', names=[\"taste\"])\n",
    "#wordsBULDAK2014ASD.txt\n",
    "#reviewHBLOGHASD.txt"
   ]
  },
  {
   "cell_type": "code",
   "execution_count": 2,
   "metadata": {},
   "outputs": [],
   "source": [
    "panda_ary = pandsa.taste.tolist()"
   ]
  },
  {
   "cell_type": "code",
   "execution_count": 3,
   "metadata": {},
   "outputs": [
    {
     "data": {
      "text/plain": [
       "'/home/LG/Foody'"
      ]
     },
     "execution_count": 3,
     "metadata": {},
     "output_type": "execute_result"
    }
   ],
   "source": [
    "os.getcwd()"
   ]
  },
  {
   "cell_type": "code",
   "execution_count": 4,
   "metadata": {},
   "outputs": [],
   "source": [
    "review_key =[]\n",
    "review_val =[]\n",
    "\n",
    "for panda in panda_ary:\n",
    "    list = panda.split(\" \")\n",
    "    review_key.append(list[1])\n",
    "    review_val.append(int(list[len(list)-1]))"
   ]
  },
  {
   "cell_type": "code",
   "execution_count": 5,
   "metadata": {},
   "outputs": [],
   "source": [
    "sentences = {}\n",
    "for i in range(len(review_key)):\n",
    "    sentences[review_key[i]] = review_val[i]"
   ]
  },
  {
   "cell_type": "code",
   "execution_count": 6,
   "metadata": {},
   "outputs": [],
   "source": [
    "shin = [\"새콤달콤\", \"상큼\", \"신맛\", \"새콤달콤\"]\n",
    "zz = [\"담백\", \"밍밍\", \"간장\", \"나트륨\", \"짜\"]\n",
    "ss = [\"쓴맛\"]\n",
    "dan = [\"달콤\", \"감미\", \"달큼\", \"설탕물\", \"새콤달콤\", \"단맛\"]\n",
    "mae = [\"알싸\", \"매운맛\", \"매콤\", \"눈물\", \"화끈하\", \"지옥\", \"빨개지\", \"피똥\", \"눈물나\", \"도전\", \"고추\", \"맵\", \"칼칼\"]\n",
    "\n",
    "taste_num = {\"새콤달콤\":4, \"상큼\":2, \"신맛\":4, \"담백\":1, \"밍밍\":1, \"쓴맛\":2, \"달콤\":3, \"감미\":3, \"달큼\":2, \"설탕물\": 4, \"알싸\":2, \"매운맛\":4, \"매콤\":4, \"도전\":4, \"고추\":4, \"눈물\":4, \"화끈하\":4, \"지옥\":5, \"빨개지\":5, \"간장\":3, \"나트륨\":3, \"피똥\":5, \"눈물나\":5, \"단맛\":4, \"맵\":3, \"짜\":3, \"칼칼\":3}\n",
    "taste_sum = [0, 0, 0, 0, 0] \n",
    "taste_count = [0,0,0,0,0]\n",
    "\n",
    "taste = {}\n",
    "\n",
    "for sentence in review_key:\n",
    "\tif sentence in shin :\n",
    "\t\ttaste_sum[0]+=taste_num[sentence]*sentences[sentence]\n",
    "\t\ttaste_count[0]+=1*sentences[sentence]\n",
    "\tif sentence in zz:\n",
    "\t\ttaste_sum[1]+=taste_num[sentence]*sentences[sentence]\n",
    "\t\ttaste_count[1]+=1*sentences[sentence]\n",
    "\tif sentence in ss:\n",
    "\t\ttaste_sum[2]+=taste_num[sentence]*sentences[sentence]\n",
    "\t\ttaste_count[2]+=1*sentences[sentence]\n",
    "\tif sentence in dan:\n",
    "\t\ttaste_sum[3]+=taste_num[sentence]*sentences[sentence]\n",
    "\t\ttaste_count[3]+=1*sentences[sentence]\n",
    "\tif sentence in mae:\n",
    "\t\ttaste_sum[4]+=taste_num[sentence]*sentences[sentence]\n",
    "\t\ttaste_count[4]+=1*sentences[sentence]\n",
    "\n"
   ]
  },
  {
   "cell_type": "code",
   "execution_count": 7,
   "metadata": {},
   "outputs": [
    {
     "name": "stdout",
     "output_type": "stream",
     "text": [
      "3.353822213577125\n",
      "1.772823779193206\n",
      "2.0\n",
      "3.671456997567986\n",
      "3.7241379310344827\n"
     ]
    }
   ],
   "source": [
    "for i in range(len(taste_sum)):\n",
    "    if taste_count[i] == 0 :\n",
    "        print(0)\n",
    "    else:\n",
    "        print(taste_sum[i]/taste_count[i])"
   ]
  },
  {
   "cell_type": "code",
   "execution_count": 8,
   "metadata": {},
   "outputs": [
    {
     "name": "stdout",
     "output_type": "stream",
     "text": [
      "새콤달콤\n",
      "2907\n",
      "상큼\n",
      "1661\n",
      "달콤\n",
      "1158\n",
      "도전\n",
      "678\n",
      "신맛\n",
      "573\n",
      "밍밍\n",
      "161\n",
      "감미\n",
      "160\n",
      "단맛\n",
      "138\n",
      "알싸\n",
      "128\n",
      "담백\n",
      "128\n",
      "고추\n",
      "122\n",
      "쓴맛\n",
      "119\n",
      "간장\n",
      "118\n",
      "달큼\n",
      "84\n",
      "설탕물\n",
      "76\n",
      "나트륨\n",
      "64\n"
     ]
    }
   ],
   "source": [
    "sentence_dict = {}\n",
    "\n",
    "list_dict = []\n",
    "\n",
    "for sentence in review_key:\n",
    "    content_dict = {}\n",
    "    if sentence in taste_num.keys():\n",
    "        print(sentence)\n",
    "        print(review_val[review_key.index(sentence)])\n",
    "        content_dict[\"keyword\"] =  sentence\n",
    "        content_dict[\"count\"] = review_val[review_key.index(sentence)]\n",
    "        content_dict[\"level\"] = taste_num[sentence]\n",
    "    if sentence in shin:\n",
    "        content_dict[\"taste\"] = \"sour\"\n",
    "    elif sentence in zz:\n",
    "        content_dict[\"taste\"] = \"salty\"\n",
    "    elif sentence in ss:\n",
    "        content_dict[\"taste\"] = \"bitter\"\n",
    "    elif sentence in dan:\n",
    "        content_dict[\"taste\"] = \"sweet\"\n",
    "    elif sentence in mae:\n",
    "        content_dict[\"taste\"] = \"hot\"\n",
    "        \n",
    "    if content_dict :\n",
    "        list_dict.append(content_dict)\n",
    "\n",
    "sentence_dict[\"keyword_dict\"] = list_dict"
   ]
  },
  {
   "cell_type": "code",
   "execution_count": 9,
   "metadata": {},
   "outputs": [
    {
     "data": {
      "text/plain": [
       "{'keyword_dict': [{'keyword': '새콤달콤',\n",
       "   'count': 2907,\n",
       "   'level': 4,\n",
       "   'taste': 'sour'},\n",
       "  {'keyword': '상큼', 'count': 1661, 'level': 2, 'taste': 'sour'},\n",
       "  {'keyword': '달콤', 'count': 1158, 'level': 3, 'taste': 'sweet'},\n",
       "  {'keyword': '도전', 'count': 678, 'level': 4, 'taste': 'hot'},\n",
       "  {'keyword': '신맛', 'count': 573, 'level': 4, 'taste': 'sour'},\n",
       "  {'keyword': '밍밍', 'count': 161, 'level': 1, 'taste': 'salty'},\n",
       "  {'keyword': '감미', 'count': 160, 'level': 3, 'taste': 'sweet'},\n",
       "  {'keyword': '단맛', 'count': 138, 'level': 4, 'taste': 'sweet'},\n",
       "  {'keyword': '알싸', 'count': 128, 'level': 2, 'taste': 'hot'},\n",
       "  {'keyword': '담백', 'count': 128, 'level': 1, 'taste': 'salty'},\n",
       "  {'keyword': '고추', 'count': 122, 'level': 4, 'taste': 'hot'},\n",
       "  {'keyword': '쓴맛', 'count': 119, 'level': 2, 'taste': 'bitter'},\n",
       "  {'keyword': '간장', 'count': 118, 'level': 3, 'taste': 'salty'},\n",
       "  {'keyword': '달큼', 'count': 84, 'level': 2, 'taste': 'sweet'},\n",
       "  {'keyword': '설탕물', 'count': 76, 'level': 4, 'taste': 'sweet'},\n",
       "  {'keyword': '나트륨', 'count': 64, 'level': 3, 'taste': 'salty'}]}"
      ]
     },
     "execution_count": 9,
     "metadata": {},
     "output_type": "execute_result"
    }
   ],
   "source": [
    "sentence_dict"
   ]
  },
  {
   "cell_type": "code",
   "execution_count": 10,
   "metadata": {},
   "outputs": [
    {
     "name": "stdout",
     "output_type": "stream",
     "text": [
      "2907\n",
      "678\n",
      "573\n",
      "138\n",
      "122\n",
      "76\n"
     ]
    }
   ],
   "source": [
    "taste = []\n",
    "tastelevel= []\n",
    "tastecount = [0,0,0,0,0,0,0,0,0,0,0,0,0,0,0,0,0,0,0,0,0,0,0,0,0]\n",
    "\n",
    "taste_word = [\"sour\", \"salty\", \"bitter\", \"sweet\", \"hot\"]\n",
    "\n",
    "for j in range(5):\n",
    "    for i in range(5):\n",
    "        taste.append(taste_word[j])\n",
    "        tastelevel.append(5-i)\n",
    "        \n",
    "\n",
    "for ary in sentence_dict[\"keyword_dict\"]:\n",
    "    if ary[\"taste\"] == 'sour':\n",
    "        if ary[\"level\"] == 5:\n",
    "            tastecount[0]+=ary[\"count\"]\n",
    "    if ary[\"taste\"] == 'sour':\n",
    "        if ary[\"level\"] == 4:\n",
    "            tastecount[1]+=ary[\"count\"]\n",
    "            print(ary[\"count\"])\n",
    "    if ary[\"taste\"] == 'sour':\n",
    "        if ary[\"level\"] == 3:\n",
    "            tastecount[2]+=ary[\"count\"]\n",
    "    if ary[\"taste\"] == 'sour':\n",
    "        if ary[\"level\"] == 2:\n",
    "            tastecount[3]+=ary[\"count\"]\n",
    "    if ary[\"taste\"] == 'sour':\n",
    "        if ary[\"level\"] == 1:\n",
    "            tastecount[4]+=ary[\"count\"]\n",
    "    if ary[\"taste\"] == 'salty':\n",
    "        if ary[\"level\"] == 5:\n",
    "            tastecount[5]+=ary[\"count\"]\n",
    "    if ary[\"taste\"] == 'salty':\n",
    "        if ary[\"level\"] == 4:\n",
    "            tastecount[6]+=ary[\"count\"]\n",
    "            print(ary[\"count\"])\n",
    "    if ary[\"taste\"] == 'salty':\n",
    "        if ary[\"level\"] == 3:\n",
    "            tastecount[7]+=ary[\"count\"]\n",
    "    if ary[\"taste\"] == 'salty':\n",
    "        if ary[\"level\"] == 2:\n",
    "            tastecount[8]+=ary[\"count\"]\n",
    "    if ary[\"taste\"] == 'salty':\n",
    "        if ary[\"level\"] == 1:\n",
    "            tastecount[9]+=ary[\"count\"]\n",
    "    if ary[\"taste\"] == 'bitter':\n",
    "        if ary[\"level\"] == 5:\n",
    "            tastecount[10]+=ary[\"count\"]\n",
    "    if ary[\"taste\"] == 'bitter':\n",
    "        if ary[\"level\"] == 4:\n",
    "            tastecount[11]+=ary[\"count\"]\n",
    "            print(ary[\"count\"])\n",
    "    if ary[\"taste\"] == 'bitter':\n",
    "        if ary[\"level\"] == 3:\n",
    "            tastecount[12]+=ary[\"count\"]\n",
    "    if ary[\"taste\"] == 'bitter':\n",
    "        if ary[\"level\"] == 2:\n",
    "            tastecount[13]+=ary[\"count\"]\n",
    "    if ary[\"taste\"] == 'bitter':\n",
    "        if ary[\"level\"] == 1:\n",
    "            tastecount[14]+=ary[\"count\"]\n",
    "    if ary[\"taste\"] == 'sweet':\n",
    "        if ary[\"level\"] == 5:\n",
    "            tastecount[15]+=ary[\"count\"]\n",
    "    if ary[\"taste\"] == 'sweet':\n",
    "        if ary[\"level\"] == 4:\n",
    "            tastecount[16]+=ary[\"count\"]\n",
    "            print(ary[\"count\"])\n",
    "    if ary[\"taste\"] == 'sweet':\n",
    "        if ary[\"level\"] == 3:\n",
    "            tastecount[17]+=ary[\"count\"]\n",
    "    if ary[\"taste\"] == 'sweet':\n",
    "        if ary[\"level\"] == 2:\n",
    "            tastecount[18]+=ary[\"count\"]\n",
    "    if ary[\"taste\"] == 'sweet':\n",
    "        if ary[\"level\"] == 1:\n",
    "            tastecount[19]+=ary[\"count\"]\n",
    "    if ary[\"taste\"] == 'hot':\n",
    "        if ary[\"level\"] == 5:\n",
    "            tastecount[20]+=ary[\"count\"]\n",
    "    if ary[\"taste\"] == 'hot':\n",
    "        if ary[\"level\"] == 4:\n",
    "            tastecount[21]+=ary[\"count\"]\n",
    "            print(ary[\"count\"])\n",
    "    if ary[\"taste\"] == 'hot':\n",
    "        if ary[\"level\"] == 3:\n",
    "            tastecount[22]+=ary[\"count\"]\n",
    "    if ary[\"taste\"] == 'hot':\n",
    "        if ary[\"level\"] == 2:\n",
    "            tastecount[23]+=ary[\"count\"]\n",
    "    if ary[\"taste\"] == 'hot':\n",
    "        if ary[\"level\"] == 1:\n",
    "            tastecount[24]+=ary[\"count\"]          "
   ]
  },
  {
   "cell_type": "code",
   "execution_count": 11,
   "metadata": {},
   "outputs": [],
   "source": [
    "import csv\n",
    "\n",
    "f = open('output.csv', 'w', newline=\"\")\n",
    "writer = csv.writer(f)\n",
    "for i in range(25):\n",
    "    writer.writerow([taste[i], tastelevel[i], tastecount[i]])\n",
    "f.close()"
   ]
  },
  {
   "cell_type": "code",
   "execution_count": 107,
   "metadata": {},
   "outputs": [
    {
     "data": {
      "text/plain": [
       "[0,\n",
       " 3480,\n",
       " 0,\n",
       " 1661,\n",
       " 0,\n",
       " 0,\n",
       " 0,\n",
       " 182,\n",
       " 0,\n",
       " 289,\n",
       " 0,\n",
       " 0,\n",
       " 0,\n",
       " 119,\n",
       " 0,\n",
       " 0,\n",
       " 214,\n",
       " 1318,\n",
       " 84,\n",
       " 0,\n",
       " 0,\n",
       " 800,\n",
       " 0,\n",
       " 128,\n",
       " 0]"
      ]
     },
     "execution_count": 107,
     "metadata": {},
     "output_type": "execute_result"
    }
   ],
   "source": [
    "tastecount"
   ]
  },
  {
   "cell_type": "code",
   "execution_count": 6,
   "metadata": {},
   "outputs": [],
   "source": [
    "import pandas as pd\n",
    "import numpy as np\n",
    "import matplotlib.pyplot as plt\n",
    "\n",
    "\n",
    "shin = [\"새콤달콤\", \"상큼\", \"신맛\", \"새콤달콤\"]\n",
    "zz = [\"담백\", \"밍밍\", \"간장\", \"나트륨\", \"짜\"]\n",
    "ss = [\"쓴맛\"]\n",
    "dan = [\"달콤\", \"감미\", \"달큼\", \"설탕물\", \"새콤달콤\", \"단맛\"]\n",
    "mae = [\"알싸\", \"매운맛\", \"매콤\", \"눈물\", \"화끈하\", \"지옥\", \"빨개지\", \"피똥\", \"눈물나\", \"도전\", \"고추\", \"맵\", \"칼칼\"]\n",
    "\n",
    "taste_num = {\"새콤달콤\":4, \"상큼\":2, \"신맛\":4, \"담백\":1, \"밍밍\":1, \"쓴맛\":2, \"달콤\":3, \"감미\":3, \"달큼\":2, \"설탕물\": 4, \"알싸\":2, \"매운맛\":4, \"매콤\":4, \"도전\":4, \"고추\":4, \"눈물\":4, \"화끈하\":4, \"지옥\":5, \"빨개지\":5, \"간장\":3, \"나트륨\":3, \"피똥\":5, \"눈물나\":5, \"단맛\":4, \"맵\":3, \"짜\":3, \"칼칼\":3}\n",
    "taste_sum = [0, 0, 0, 0, 0] \n",
    "taste_count = [0,0,0,0,0]\n",
    "\n",
    "\n",
    "dict_array = []\n",
    "taste_dict = {}\n",
    "\n",
    "def product_name(name):\n",
    "    \n",
    "    if name == \"불닭볶음면\":\n",
    "        file_name = '/home/LG/Foody/wordsBULDAK2014ASD.txt'\n",
    "    elif name == \"마시는 홍초\":\n",
    "        file_name = '/home/LG/Foody/reviewHBLOGHASD.txt'\n",
    "    elif name == \"신라면\":\n",
    "        file_name = '/home/LG/Foody/wordsSHINASD.txt'\n",
    "\n",
    "    pandsa = pd.read_csv(file_name, names=[\"taste\"])\n",
    "    panda_ary = pandsa.taste.tolist()\n",
    "    review_key =[]\n",
    "    review_val =[]\n",
    "\n",
    "    for panda in panda_ary:\n",
    "        list = panda.split(\" \")\n",
    "        review_key.append(list[1])\n",
    "        review_val.append(int(list[len(list)-1]))\n",
    "\n",
    "    sentences = {}\n",
    "    for i in range(len(review_key)):\n",
    "        sentences[review_key[i]] = review_val[i]\n",
    "\n",
    "\n",
    "\n",
    "    for sentence in review_key:\n",
    "        if sentence in shin :\n",
    "            taste_sum[0]+=taste_num[sentence]*sentences[sentence]\n",
    "            taste_count [0]+=1*sentences[sentence]\n",
    "        if sentence in zz:\n",
    "            taste_sum[1]+=taste_num[sentence]*sentences[sentence]\n",
    "            taste_count [1]+=1*sentences[sentence]\n",
    "        if sentence in ss:\n",
    "            taste_sum[2]+=taste_num[sentence]*sentences[sentence]\n",
    "            taste_count [2]+=1*sentences[sentence]\n",
    "        if sentence in dan:\n",
    "            taste_sum[3]+=taste_num[sentence]*sentences[sentence]\n",
    "            taste_count [3]+=1*sentences[sentence]\n",
    "        if sentence in mae:\n",
    "            taste_sum[4]+=taste_num[sentence]*sentences[sentence]\n",
    "            taste_count [4]+=1*sentences[sentence]\n",
    "\n",
    "    returnDict = {}\n",
    "    returnval = []\n",
    "\n",
    "    for i in range(len(taste_sum)):\n",
    "        if taste_count[i] == 0 :\n",
    "            returnval.append(0)\n",
    "        else:\n",
    "            returnval.append(taste_sum[i]/taste_count[i])\n",
    "            \n",
    "    returnDict[\"taste_rate\"] = returnval\n",
    "    returnDict[\"taste_count\"] = taste_count\n",
    "    returnDict[\"taste_sum\"] = taste_count\n",
    "    \n",
    "    return returnDict"
   ]
  },
  {
   "cell_type": "code",
   "execution_count": 7,
   "metadata": {},
   "outputs": [
    {
     "data": {
      "text/plain": [
       "{'taste_rate': [0, 3.0, 0, 3.375, 4.015479876160991],\n",
       " 'taste_count': [0, 3, 0, 8, 323],\n",
       " 'taste_sum': [0, 3, 0, 8, 323]}"
      ]
     },
     "execution_count": 7,
     "metadata": {},
     "output_type": "execute_result"
    }
   ],
   "source": [
    "product_name(\"불닭볶음면\")"
   ]
  },
  {
   "cell_type": "code",
   "execution_count": 6,
   "metadata": {},
   "outputs": [
    {
     "data": {
      "text/plain": [
       "[0, 3, 0, 8, 323]"
      ]
     },
     "execution_count": 6,
     "metadata": {},
     "output_type": "execute_result"
    }
   ],
   "source": [
    "taste_count"
   ]
  },
  {
   "cell_type": "code",
   "execution_count": 7,
   "metadata": {},
   "outputs": [
    {
     "data": {
      "text/plain": [
       "[0, 9, 0, 27, 1297]"
      ]
     },
     "execution_count": 7,
     "metadata": {},
     "output_type": "execute_result"
    }
   ],
   "source": [
    "taste_sum"
   ]
  },
  {
   "cell_type": "code",
   "execution_count": null,
   "metadata": {},
   "outputs": [],
   "source": []
  }
 ],
 "metadata": {
  "kernelspec": {
   "display_name": "Python 3",
   "language": "python",
   "name": "python3"
  },
  "language_info": {
   "codemirror_mode": {
    "name": "ipython",
    "version": 3
   },
   "file_extension": ".py",
   "mimetype": "text/x-python",
   "name": "python",
   "nbconvert_exporter": "python",
   "pygments_lexer": "ipython3",
   "version": "3.6.5"
  }
 },
 "nbformat": 4,
 "nbformat_minor": 2
}
